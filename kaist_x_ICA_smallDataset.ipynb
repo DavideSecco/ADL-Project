{
 "cells": [
  {
   "cell_type": "markdown",
   "id": "40e766e8",
   "metadata": {},
   "source": [
    "## Creatore dataset piu piccoli per rapidi test"
   ]
  },
  {
   "cell_type": "code",
   "execution_count": 22,
   "id": "955d32d8",
   "metadata": {},
   "outputs": [],
   "source": [
    "from pathlib import Path\n",
    "\n",
    "def set_dataset_path(path_str):\n",
    "    \"\"\"\n",
    "    Imposta il path del dataset e restituisce un oggetto Path per il resto del notebook.\n",
    "    \"\"\"\n",
    "    dataset_path = Path(path_str).expanduser().resolve()\n",
    "    print(f\"Percorso dataset impostato a:\\n{dataset_path}\")\n",
    "    return dataset_path"
   ]
  },
  {
   "cell_type": "markdown",
   "id": "2c17f5e1",
   "metadata": {},
   "source": [
    "```\n",
    "QUI INSERISCI IL PATH ALLA CARTELLA CHE CONTIENE IL DATASET"
   ]
  },
  {
   "cell_type": "code",
   "execution_count": 23,
   "id": "74a711c4",
   "metadata": {},
   "outputs": [
    {
     "name": "stdout",
     "output_type": "stream",
     "text": [
      "Percorso dataset impostato a:\n",
      "/home/honey/ADL-Project/kaist-cvpr15\n"
     ]
    }
   ],
   "source": [
    "dataset_path = set_dataset_path('kaist-cvpr15')  # Modifica questo percorso secondo le tue esigenze \n",
    "\n",
    "# Karolina /scratch/project/eu-25-19/kaist-cvpr15"
   ]
  },
  {
   "cell_type": "markdown",
   "id": "5a695c06",
   "metadata": {},
   "source": [
    "Funzione che crea una sub directory per ospitare il nuovo sub dataset mantenendo disposizione richiesta da ICAFusion"
   ]
  },
  {
   "cell_type": "code",
   "execution_count": 24,
   "id": "5146f5b7",
   "metadata": {},
   "outputs": [],
   "source": [
    "def create_subset_folder_structure(subset_path):\n",
    "    # Definisci la cartella di output\n",
    "    # kaist-cvpr15/\n",
    "    #       Kaist_x_icafusion_v1.0/\n",
    "    #                   visible/\n",
    "    #                   infrared/\n",
    "    #                   labels/\n",
    "    \n",
    "    output_root = dataset_path / subset_path\n",
    "\n",
    "    # Crea le cartelle dentro questa nuova root\n",
    "    for mode in [\"train\", \"test\"]:\n",
    "        (output_root / \"visible\" / mode).mkdir(parents=True, exist_ok=True)\n",
    "        (output_root / \"infrared\" / mode).mkdir(parents=True, exist_ok=True)\n",
    "        (output_root / \"labels\" / mode).mkdir(parents=True, exist_ok=True)\n",
    "\n",
    "    return output_root\n",
    "   \n"
   ]
  },
  {
   "cell_type": "markdown",
   "id": "cb56a4a0",
   "metadata": {},
   "source": [
    "Funzione per copiare n sample dal training set e m sample dal test set"
   ]
  },
  {
   "cell_type": "code",
   "execution_count": 25,
   "id": "fbd2bc98",
   "metadata": {},
   "outputs": [],
   "source": [
    "from pathlib import Path\n",
    "import shutil\n",
    "import math\n",
    "\n",
    "def crea_subset_sequenziale(output_root, n_train, n_test):\n",
    "    \"\"\"\n",
    "    Crea subset prendendo sample equidistanti dal train e dal test,\n",
    "    mantenendo la struttura {visible, infrared, labels}/{train, test}/\n",
    "    \"\"\"\n",
    "    def sample_seq(lst, N):\n",
    "        # Campiona N sample equamente distribuiti dalla lista ordinata\n",
    "        L = len(lst)\n",
    "        if N >= L:  # se ne chiedi più di quanti ne hai, usa tutti\n",
    "            return lst\n",
    "        step = L / N\n",
    "        return [lst[math.floor(i*step)] for i in range(N)]\n",
    "\n",
    "\n",
    "    input_root =  dataset_path / \"Kaist_x_icafusion_v1.0\" \n",
    "\n",
    "    for split, n in [('train', n_train), ('test', n_test)]:\n",
    "        vis_dir = input_root / \"visible\" / split\n",
    "        ir_dir = input_root / \"infrared\" / split\n",
    "        lbl_dir = input_root / \"labels\" / split\n",
    "\n",
    "        vis_names = {f.stem for f in vis_dir.iterdir() if f.is_file()}\n",
    "        ir_names  = {f.stem for f in ir_dir.iterdir() if f.is_file()}\n",
    "        lbl_names = {f.stem for f in lbl_dir.iterdir() if f.is_file()}\n",
    "        triple = sorted(list(vis_names & ir_names & lbl_names))\n",
    "\n",
    "        if not triple:\n",
    "            print(f\"Nessun sample disponibile per {split}\")\n",
    "            continue\n",
    "\n",
    "        if n > len(triple):\n",
    "            print(f\"Richiesti {n} sample per {split}, disponibili solo {len(triple)}. Verranno copiati tutti.\")\n",
    "            sel = triple\n",
    "        else:\n",
    "            sel = sample_seq(triple, n)\n",
    "\n",
    "        # Crea cartelle di output\n",
    "        for cat in [\"visible\", \"infrared\", \"labels\"]:\n",
    "            (output_root / cat / split).mkdir(parents=True, exist_ok=True)\n",
    "\n",
    "        for name in sel:\n",
    "            for cat, ext in [(\"visible\", \".jpg\"), (\"infrared\", \".jpg\"), (\"labels\", \".txt\")]:\n",
    "                src = input_root / cat / split / f\"{name}{ext}\"\n",
    "                dst = output_root / cat / split / f\"{name}{ext}\"\n",
    "                if src.is_file():\n",
    "                    shutil.copy2(src, dst)\n",
    "                else:\n",
    "                    print(f\"[WARN] File mancante: {src}\")\n",
    "\n",
    "    print(f\"\\nSubset creato in {output_root}\")\n"
   ]
  },
  {
   "cell_type": "markdown",
   "id": "0c594799",
   "metadata": {},
   "source": [
    "Funzione per conformity checks.  \n",
    "* Conta numero di triplette e ritorna eventuali sample spaiati.  \n",
    "* Se il numero di triplette e' identico al numero di sample richiesti e non sono presenti elementi spaiati la procedura e' andata a buon fine!"
   ]
  },
  {
   "cell_type": "code",
   "execution_count": 31,
   "id": "50636470",
   "metadata": {},
   "outputs": [],
   "source": [
    "from pathlib import Path\n",
    "\n",
    "def check_triplette(output_root, split=\"train\"):\n",
    "    \"\"\"\n",
    "    Conta e verifica le triplette (visible + infrared + labels) presenti per una split (train/test).\n",
    "    \"\"\"\n",
    "\n",
    "    visible_dir = output_root / \"visible\" / split\n",
    "    infrared_dir = output_root / \"infrared\" / split\n",
    "    labels_dir = output_root / \"labels\" / split\n",
    "\n",
    "    vis_files = {f.stem for f in visible_dir.iterdir() if f.is_file()}\n",
    "    ir_files = {f.stem for f in infrared_dir.iterdir() if f.is_file()}\n",
    "    lbl_files = {f.stem for f in labels_dir.iterdir() if f.is_file()}\n",
    "\n",
    "    triplette = vis_files & ir_files & lbl_files\n",
    "    print(f\"Totale file in visible/{split}:  {len(vis_files)}\")\n",
    "    print(f\"Totale file in infrared/{split}: {len(ir_files)}\")\n",
    "    print(f\"Totale file in labels/{split}:   {len(lbl_files)}\")\n",
    "\n",
    "    print(f\"\\nNumero di triplette complete (presenti in tutte e tre le cartelle): {len(triplette)}\")\n",
    "\n",
    "    # lista sugli \"orfani\":\n",
    "    solo_vis = vis_files - triplette\n",
    "    solo_ir = ir_files - triplette\n",
    "    solo_lbl = lbl_files - triplette\n",
    "\n",
    "    if solo_vis:\n",
    "        print(f\"File solo in visible (non triplette): {len(solo_vis)}\")\n",
    "    if solo_ir:\n",
    "        print(f\"File solo in infrared (non triplette): {len(solo_ir)}\")\n",
    "    if solo_lbl:\n",
    "        print(f\"File solo in labels (non triplette): {len(solo_lbl)}\")\n",
    "\n",
    "\n",
    "  "
   ]
  },
  {
   "cell_type": "markdown",
   "id": "e49e3a19",
   "metadata": {},
   "source": [
    "### Struttura Dataset originale recap  \n",
    "-> 26835 training samples (one visible - one infrared - one label(YOLO))  \n",
    "-> 45140 testing  samples (one visible - one infrared - one label(YOLO))  "
   ]
  },
  {
   "cell_type": "markdown",
   "id": "355ef460",
   "metadata": {},
   "source": [
    "## Riempimenti nuove sub_directory\n",
    "```\n",
    "RICHIEDE ESISTENZA DI Kaist_x_icafusion_v1.0 dall'altro ipynb!!"
   ]
  },
  {
   "cell_type": "markdown",
   "id": "0b0ee5e0",
   "metadata": {},
   "source": [
    "#### ExtraSmall_1000_1000  \n",
    "\n",
    "> 1000 training sample  \n",
    "> 1000 testing  sample   "
   ]
  },
  {
   "cell_type": "code",
   "execution_count": 33,
   "id": "c1c1d3ed",
   "metadata": {},
   "outputs": [],
   "source": [
    "# Creazione della struttura di cartelle per il nuovo subset\n",
    "output_path_ExtraSmall_1000_1000 = create_subset_folder_structure('Kaist_x_icafusion_vExtraSmall_1000_1000')\n",
    "\n",
    "\n",
    "# IMPORTANTE RICORDARE NOME VARIABILE ASSEGNATA QUA!"
   ]
  },
  {
   "cell_type": "code",
   "execution_count": 34,
   "id": "ee9f34bb",
   "metadata": {},
   "outputs": [
    {
     "name": "stdout",
     "output_type": "stream",
     "text": [
      "\n",
      "Subset creato in /home/honey/ADL-Project/kaist-cvpr15/Kaist_x_icafusion_vExtraSmall_1000_1000\n"
     ]
    }
   ],
   "source": [
    "# Riempimento del subset con 1000 immagini di train e 1000 di test\n",
    "crea_subset_sequenziale(output_path_ExtraSmall_1000_1000, n_train=1000, n_test=1000)"
   ]
  },
  {
   "cell_type": "code",
   "execution_count": 39,
   "id": "b7ebfe1e",
   "metadata": {},
   "outputs": [
    {
     "name": "stdout",
     "output_type": "stream",
     "text": [
      "Totale file in visible/train:  1000\n",
      "Totale file in infrared/train: 1000\n",
      "Totale file in labels/train:   1000\n",
      "\n",
      "Numero di triplette complete (presenti in tutte e tre le cartelle): 1000\n",
      "Totale file in visible/test:  1000\n",
      "Totale file in infrared/test: 1000\n",
      "Totale file in labels/test:   1000\n",
      "\n",
      "Numero di triplette complete (presenti in tutte e tre le cartelle): 1000\n"
     ]
    }
   ],
   "source": [
    "# Verifica delle triplette nel subset creato\n",
    "check_triplette(output_path_ExtraSmall_1000_1000, split=\"train\")\n",
    "\n",
    "# Verifica delle triplette nel subset creato\n",
    "check_triplette(output_path_ExtraSmall_1000_1000, split=\"test\")"
   ]
  },
  {
   "cell_type": "markdown",
   "id": "78abf4a1",
   "metadata": {},
   "source": [
    "#### ExtraSmall_1000_200\n",
    "\n",
    "> 1000 training sample  \n",
    "> 200 testing  sample \n"
   ]
  },
  {
   "cell_type": "code",
   "execution_count": 36,
   "id": "5e316bd4",
   "metadata": {},
   "outputs": [],
   "source": [
    "output_path_ExtraSmall_1000_200 = create_subset_folder_structure('Kaist_x_icafusion_vExtraSmall_1000_200')\n",
    "# Riempimento del subset con 1000 immagini di train e 200 di test"
   ]
  },
  {
   "cell_type": "code",
   "execution_count": 37,
   "id": "994492e4",
   "metadata": {},
   "outputs": [
    {
     "name": "stdout",
     "output_type": "stream",
     "text": [
      "\n",
      "Subset creato in /home/honey/ADL-Project/kaist-cvpr15/Kaist_x_icafusion_vExtraSmall_1000_200\n"
     ]
    }
   ],
   "source": [
    "crea_subset_sequenziale(output_path_ExtraSmall_1000_200, n_train=1000, n_test=200)"
   ]
  },
  {
   "cell_type": "code",
   "execution_count": 40,
   "id": "6cdbe7dd",
   "metadata": {},
   "outputs": [
    {
     "name": "stdout",
     "output_type": "stream",
     "text": [
      "Totale file in visible/train:  1000\n",
      "Totale file in infrared/train: 1000\n",
      "Totale file in labels/train:   1000\n",
      "\n",
      "Numero di triplette complete (presenti in tutte e tre le cartelle): 1000\n",
      "Totale file in visible/test:  200\n",
      "Totale file in infrared/test: 200\n",
      "Totale file in labels/test:   200\n",
      "\n",
      "Numero di triplette complete (presenti in tutte e tre le cartelle): 200\n"
     ]
    }
   ],
   "source": [
    "check_triplette(output_path_ExtraSmall_1000_200, split=\"train\")\n",
    "check_triplette(output_path_ExtraSmall_1000_200, split=\"test\")"
   ]
  }
 ],
 "metadata": {
  "kernelspec": {
   "display_name": "icafusion",
   "language": "python",
   "name": "python3"
  },
  "language_info": {
   "codemirror_mode": {
    "name": "ipython",
    "version": 3
   },
   "file_extension": ".py",
   "mimetype": "text/x-python",
   "name": "python",
   "nbconvert_exporter": "python",
   "pygments_lexer": "ipython3",
   "version": "3.8.20"
  }
 },
 "nbformat": 4,
 "nbformat_minor": 5
}
