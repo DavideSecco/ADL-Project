{
 "cells": [
  {
   "cell_type": "markdown",
   "id": "9f14532c",
   "metadata": {},
   "source": [
    "# Convert & Copy Checkpoints"
   ]
  },
  {
   "cell_type": "markdown",
   "id": "a3ef44d4",
   "metadata": {},
   "source": [
    "#### Requirements"
   ]
  },
  {
   "cell_type": "markdown",
   "id": "586105d0",
   "metadata": {},
   "source": [
    "1) Avere un checkpoint qualsiasi di ICAFusion da usare come base per il mapping.  \n",
    "Per ottenerlo bastera' far andare il modello anche solo per un epoca e trovare il checkpoint .pth nella cartella  \n",
    "\"ICAFusion/runs/train/\"nome_della_run\"/weights/\"nome_checkpoint.pth\" \"  \n",
    "  \n",
    "    Esempio usato in questo notebook: ICAFusion/runs/train/icafusion_debug_small/weights/best_model_state_dict_only.pth\n",
    "\n",
    "\n",
    "\n",
    "\n",
    "\n",
    "\n",
    "\n"
   ]
  },
  {
   "cell_type": "code",
   "execution_count": 12,
   "id": "e5bd3407",
   "metadata": {},
   "outputs": [],
   "source": [
    "import torch\n",
    "\n",
    "# Impostare qua il vostro path al file .pth di ICAFusion ed eseguire questa cella\n",
    "# NOTA: E' direttamente il model_state_dict che scaricate con le mie modifiche a ICAFusion\n",
    "icafusion_model_state_dict = torch.load(\"/mnt/proj3/eu-25-19/davide_secco/ADL-Project/ICAFusion/state_dict_from_model.pth\", map_location=torch.device('cpu'))"
   ]
  },
  {
   "cell_type": "markdown",
   "id": "c19b3e3d",
   "metadata": {},
   "source": [
    "2. Avere i seguenti checkpoint da pretraining:\n",
    " * DeCUR \n",
    " * DenseCL x Visible (rgb)\n",
    " * DenseCL x Infrared (thermal)\n",
    " * DenseDeCUR\n",
    "\n",
    "    Conoscerne la locazione (path)"
   ]
  },
  {
   "cell_type": "code",
   "execution_count": 13,
   "id": "120f32c6",
   "metadata": {},
   "outputs": [],
   "source": [
    "######################################################################    DeCUR checkpoint\n",
    "# Impostare qui il path al file .pth di DeCUR relativo alla posizione di questo notebook!!\n",
    "decur_original_state_dict_pth = torch.load(\"DeCUR/checkpoint/KAIST_Training_forSSL_pretraining_25/checkpoint_0149.pth\", map_location=torch.device('cpu'))\n",
    "# DeCUR model state_dict (estraggo solo il model)\n",
    "decur_original_model_state_dict = decur_state_dict_pth['model']\n",
    "\n",
    "# Impostare qui il path al file .pth di DeCUR relativo alla posizione di questo notebook!!\n",
    "decur_state_dict_pth = torch.load(\"DenseDeCUR/checkpoint/decur_checkpoint_0199.pth\", map_location=torch.device('cpu'))\n",
    "# DeCUR model state_dict (estraggo solo il model)\n",
    "decur_model_state_dict = decur_state_dict_pth['model']\n",
    "\n",
    "\n",
    "######################################################################   DenseCL checkpoints\n",
    "# Impostare qui il path al file .pth di DenseCL x Visible (rgb)\n",
    "densecl_visible_state_dict_pth = torch.load(\"DenseDeCUR/checkpoint/densecl_rgb_checkpoint_0199.pth\", map_location=torch.device('cpu'), weights_only=True)\n",
    "# estraggo solo il model\n",
    "densecl_visible_model_state_dict = densecl_visible_state_dict_pth['model']\n",
    "\n",
    "# Impostare qui il path al file .pth di DenseCL x Infrared (thermal)\n",
    "densecl_infrared_state_dict_pth = torch.load(\"DenseDeCUR/checkpoint/densecl_thermal_checkpoint_0199.pth\", map_location=torch.device('cpu'), weights_only=True)\n",
    "# estraggo solo il model\n",
    "densecl_infrared_model_state_dict = densecl_infrared_state_dict_pth['model']    \n",
    "\n",
    "\n",
    "######################################################################   DenseDeCUR checkpoint\n",
    "# Impostare qui il path al file .pth di DenseDeCUR\n",
    "denseDecur_state_dict_pth = torch.load(\"DenseDeCUR/checkpoint/densedecur_checkpoint_0199.pth\", map_location=torch.device('cpu'), weights_only=True)\n",
    "denseDecur_model_state_dict = denseDecur_state_dict_pth['model']"
   ]
  },
  {
   "cell_type": "markdown",
   "id": "751e97ad",
   "metadata": {},
   "source": [
    "Quindi ricapitolando avremo: \n",
    "\n",
    "DeCUR in: decur_model_state_dict\n",
    "\n",
    "DenseCL x Visible in : densecl_visible_model_state_dict\n",
    "\n",
    "DenseCL x Infrared in : densecl_infrared_model_state_dict\n",
    "\n",
    "DenseDeCUR in : denseDecur_model_state_dict\n"
   ]
  },
  {
   "cell_type": "markdown",
   "id": "04e7f18f",
   "metadata": {},
   "source": [
    "## DeCUR To ICAFusion\n",
    "Per dettagli ulteriori e approfondimenti si rimanda a mapping_checkpoints.ipynb "
   ]
  },
  {
   "cell_type": "code",
   "execution_count": 14,
   "id": "267e7ee2",
   "metadata": {},
   "outputs": [],
   "source": [
    "# Funzione di mapping da DeCUR a ICAFusion\n",
    "\n",
    "def map_decur_to_ica_semantic(icafusion_state_dict, decur_state_dict, backbone_id=1):\n",
    "    \"\"\"\n",
    "    Mapping da DeCUR backbone_{id} verso la backbone ICAfusion corrispondente,\n",
    "    correggendo differenze di denomimazione (es: downsample vs shortcut).\n",
    "    \"\"\"\n",
    "    import re\n",
    "    # Il risultato finale (new_state_dict) conterrà tutto: pesi backbone aggiornati e tutto il resto come prima.\n",
    "    new_state_dict = icafusion_state_dict.copy()\n",
    "    # Su quale backbone di DeCUR lavoriamo (1 o 2) \n",
    "    decur_prefix = f\"module.backbone_{backbone_id}.\"\n",
    "\n",
    "    # Offset backbone 1 = model.0-4, backbone 2 = model.5-9 come mostrato sopra\n",
    "    ica_offset = 0 if backbone_id == 1 else 5\n",
    "    matched, skipped = [], []\n",
    "\n",
    "    for k_decur, v_decur in decur_state_dict.items():\n",
    "        if not k_decur.startswith(decur_prefix):  # skippa chiavi non della backbone corretta\n",
    "            continue\n",
    "        # esempio: da module.backbone_1.conv1.weight  a conv1.weight \n",
    "        # da module.backbone_1.layer1.0.conv1.weight a layer1.0.conv1.weight\n",
    "        short = k_decur.replace(decur_prefix, '')\n",
    "\n",
    "        # Conv1/Bn1 (iniziali)   i primi 5 layer in DECUR\n",
    "        if short.startswith('conv1'):\n",
    "            k_ica = f\"model.{ica_offset}.layer.0\" + short[len('conv1'):]\n",
    "        elif short.startswith('bn1'):\n",
    "            k_ica = f\"model.{ica_offset}.layer.1\" + short[len('bn1'):]\n",
    "        # Blocchi residui layer1-4 (es: layer1.0.conv1.weight)  i restanti layer in DECUR\n",
    "        elif short.startswith('layer'):\n",
    "            # Estraggo blocco/resid interno:\n",
    "            # esempio: layer1.0.conv2.weight\n",
    "            m = re.match(r\"layer(\\d)\\.(\\d+)\\.(.*)\", short)\n",
    "            if not m:\n",
    "                skipped.append((k_decur, \"no regex match\"))\n",
    "                continue\n",
    "            block_num, block_idx, sublayer = m.groups()\n",
    "            k_ica = f\"model.{ica_offset + int(block_num)}.layer.{block_idx}.{sublayer}\"\n",
    "            \n",
    "            # Correzione unica differenza di nomenclatura layer. \n",
    "            # DeCUR usa 'downsample' mentre ICAfusion usa 'shortcut'\n",
    "            k_ica = k_ica.replace('downsample', 'shortcut')\n",
    "        else:\n",
    "            skipped.append((k_decur, \"no mapping rule\"))\n",
    "            continue\n",
    "\n",
    "        # Check presenza e shape!\n",
    "        if k_ica in icafusion_state_dict and icafusion_state_dict[k_ica].shape == v_decur.shape:\n",
    "            new_state_dict[k_ica] = v_decur\n",
    "            matched.append((k_decur, k_ica))\n",
    "        else:\n",
    "            skipped.append((k_decur, k_ica))\n",
    "\n",
    "    print(f\"[Backbone {backbone_id}] Matchati: {len(matched)}. Saltati: {len(skipped)}\")\n",
    "    if len(matched) < 10:\n",
    "        print(\"Esempi matching:\", matched[:10])\n",
    "    if len(skipped) > 0:\n",
    "        print(\"Esempi saltati:\", skipped[:10])\n",
    "    return new_state_dict\n"
   ]
  },
  {
   "cell_type": "code",
   "execution_count": 15,
   "id": "f5f3cfd8",
   "metadata": {},
   "outputs": [
    {
     "name": "stdout",
     "output_type": "stream",
     "text": [
      "[Backbone 1] Matchati: 318. Saltati: 0\n",
      "[Backbone 2] Matchati: 318. Saltati: 0\n"
     ]
    }
   ],
   "source": [
    "# Chiamiamo la funzione per mappare i pesi della backbone 1 (visible/rgb) di DECUR in ICAFusion \n",
    "# Da NON modificare \n",
    "icafusion_from_decur_original  = map_decur_to_ica_semantic(icafusion_model_state_dict, decur_model_state_dict, backbone_id=1)\n",
    "\n",
    "# Richiamiamo la funzione per mappare i pesi della backbone 2 (infrared/thermal) di DECUR in ICAFusion\n",
    "# Da NON modificare\n",
    "icafusion_from_decur_original = map_decur_to_ica_semantic(icafusion_from_decur_original, decur_model_state_dict, backbone_id=2)\n"
   ]
  },
  {
   "cell_type": "code",
   "execution_count": 16,
   "id": "5ef60c07",
   "metadata": {},
   "outputs": [
    {
     "name": "stdout",
     "output_type": "stream",
     "text": [
      "[Backbone 1] Matchati: 318. Saltati: 0\n",
      "[Backbone 2] Matchati: 318. Saltati: 0\n"
     ]
    }
   ],
   "source": [
    "# Chiamiamo la funzione per mappare i pesi della backbone 1 (visible/rgb) di DECUR in ICAFusion \n",
    "# Da NON modificare \n",
    "icafusion_from_decur = map_decur_to_ica_semantic(icafusion_model_state_dict, decur_model_state_dict, backbone_id=1)\n",
    "\n",
    "# Richiamiamo la funzione per mappare i pesi della backbone 2 (infrared/thermal) di DECUR in ICAFusion\n",
    "# Da NON modificare\n",
    "icafusion_from_decur = map_decur_to_ica_semantic(icafusion_from_decur, decur_model_state_dict, backbone_id=2)\n"
   ]
  },
  {
   "cell_type": "markdown",
   "id": "df6b8060",
   "metadata": {},
   "source": [
    "## DenseCL To ICAFusion\n",
    "Per dettagli ulteriori e approfondimenti si rimanda a mapping_checkpoints.ipynb "
   ]
  },
  {
   "cell_type": "code",
   "execution_count": 17,
   "id": "8f4733a2",
   "metadata": {},
   "outputs": [],
   "source": [
    "# Funzione di mapping da DenseCL a ICAFusion\n",
    "\n",
    "def map_densecl_to_ica(icafusion_state_dict, densecl_state_dict, domain):\n",
    "    \"\"\"\n",
    "    Mappa i pesi di encoder_q di DenseCL per uno specifico dominio\n",
    "    (visible o infrared) nella backbone omologa di ICAfusion.\n",
    "    - domain: 'visible' -> ICA model.0-4 ; 'infrared' -> model.5-9\n",
    "    \"\"\"\n",
    "    import re\n",
    "    new_state_dict = icafusion_state_dict.copy()\n",
    "    prefix = \"module.encoder_q.0.\"\n",
    "    ica_offset = 0 if domain == 'visible' else 5\n",
    "    matched, skipped = [], []\n",
    "\n",
    "    for k_densecl, v_densecl in densecl_state_dict.items():\n",
    "        if not k_densecl.startswith(prefix):\n",
    "            continue\n",
    "        short = k_densecl.replace(prefix, '')  # conv1.weight / bn1.weight / layer1.0.conv1.weight\n",
    "\n",
    "        # Conv1/Bn1 (iniziali)\n",
    "        if short.startswith('conv1'):\n",
    "            k_ica = f\"model.{ica_offset}.layer.0\" + short[len('conv1'):]\n",
    "        elif short.startswith('bn1'):\n",
    "            k_ica = f\"model.{ica_offset}.layer.1\" + short[len('bn1'):]\n",
    "        # Blocchi layer1-4\n",
    "        elif short.startswith('layer'):\n",
    "            m = re.match(r\"layer(\\d)\\.(\\d+)\\.(.*)\", short)\n",
    "            if not m:\n",
    "                skipped.append((k_densecl, \"no regex match\"))\n",
    "                continue\n",
    "            block_num, block_idx, sublayer = m.groups()\n",
    "            k_ica = f\"model.{ica_offset + int(block_num)}.layer.{block_idx}.{sublayer}\"\n",
    "            k_ica = k_ica.replace('downsample', 'shortcut')\n",
    "        else:\n",
    "            skipped.append((k_densecl, \"no mapping rule\"))\n",
    "            continue\n",
    "\n",
    "        if k_ica in icafusion_state_dict and icafusion_state_dict[k_ica].shape == v_densecl.shape:\n",
    "            new_state_dict[k_ica] = v_densecl\n",
    "            matched.append((k_densecl, k_ica))\n",
    "        else:\n",
    "            skipped.append((k_densecl, k_ica))\n",
    "\n",
    "    print(f\"[DenseCL dom: {domain}] Matchati: {len(matched)}. Saltati: {len(skipped)}\")\n",
    "    if len(matched) < 10:\n",
    "        print(\"Esempi matching:\", matched)\n",
    "    if skipped:\n",
    "        print(\"Esempi saltati:\", skipped[:10])\n",
    "    return new_state_dict\n"
   ]
  },
  {
   "cell_type": "code",
   "execution_count": 18,
   "id": "7a804734",
   "metadata": {},
   "outputs": [
    {
     "name": "stdout",
     "output_type": "stream",
     "text": [
      "[DenseCL dom: visible] Matchati: 318. Saltati: 0\n",
      "[DenseCL dom: infrared] Matchati: 318. Saltati: 0\n"
     ]
    }
   ],
   "source": [
    "# Chiamiamo la funzione per mappare i pesi della backbone visible/rgb di DenseCL in ICAFusion\n",
    "icafusion_from_denseCL = map_densecl_to_ica(icafusion_model_state_dict, densecl_visible_model_state_dict, domain='visible')\n",
    "\n",
    "\n",
    "# Chiamiamo la funzione per mappare i pesi della backbone infrared/thermal di DenseCL in ICAFusion\n",
    "icafusion_from_denseCL = map_densecl_to_ica(icafusion_from_denseCL, densecl_infrared_model_state_dict, domain='infrared')"
   ]
  },
  {
   "cell_type": "markdown",
   "id": "2b0a8e3d",
   "metadata": {},
   "source": [
    "## DenseDeCUR To ICAFusion\n",
    "Per dettagli ulteriori e approfondimenti si rimanda a mapping_checkpoints.ipynb "
   ]
  },
  {
   "cell_type": "code",
   "execution_count": 19,
   "id": "12a41fd3",
   "metadata": {},
   "outputs": [],
   "source": [
    "# Funzione di mapping da DenseDeCUR a ICAFusion\n",
    "\n",
    "import re\n",
    "\n",
    "def map_dense_decur_to_ica(icafusion_state_dict, decdecur_state_dict, mod=1):\n",
    "    \"\"\"\n",
    "    Popola la backbone ICAFusion dal DenseDeCUR.\n",
    "    - mod=1: usa encoder_q di mod1 → backbone_1 (model.0~4)\n",
    "    - mod=2: usa encoder_q di mod2 → backbone_2 (model.5~9)\n",
    "    \"\"\"\n",
    "    prefix = f\"module.mod{mod}.encoder_q.0.\"     # prefisso per mod1 o mod2 per capire quale target backbone ICA usare\n",
    "    ica_offset = 0 if mod == 1 else 5\n",
    "    new_state_dict = icafusion_state_dict.copy()\n",
    "    matched, skipped = [], []\n",
    "\n",
    "    for k_src, v_src in decdecur_state_dict.items():\n",
    "        if not k_src.startswith(prefix):\n",
    "            continue\n",
    "        short = k_src.replace(prefix, '')\n",
    "\n",
    "        # Mappature semantiche per ResNet backbone (come fatto per DenseCL)\n",
    "        if short.startswith('conv1'):\n",
    "            k_tgt = f\"model.{ica_offset}.layer.0{short[len('conv1'):]}\"\n",
    "        elif short.startswith('bn1'):\n",
    "            k_tgt = f\"model.{ica_offset}.layer.1{short[len('bn1'):]}\"\n",
    "        elif short.startswith('layer'):\n",
    "            m = re.match(r\"layer(\\d)\\.(\\d+)\\.(.*)\", short)\n",
    "            if not m:\n",
    "                skipped.append((k_src, 'no regex match'))\n",
    "                continue\n",
    "            block, idx, rest = m.groups()\n",
    "            k_tgt = f\"model.{ica_offset + int(block)}.layer.{idx}.{rest}\"\n",
    "            k_tgt = k_tgt.replace(\"downsample\", \"shortcut\")\n",
    "        else:\n",
    "            skipped.append((k_src, \"no mapping rule\"))\n",
    "            continue\n",
    "\n",
    "        # Match shape finale \n",
    "        if k_tgt in icafusion_state_dict and v_src.shape == icafusion_state_dict[k_tgt].shape:\n",
    "            new_state_dict[k_tgt] = v_src\n",
    "            matched.append((k_src, k_tgt))\n",
    "        else:\n",
    "            skipped.append((k_src, k_tgt))\n",
    "\n",
    "    print(f\"[DenseDeCUR Mod {mod}] Matchati: {len(matched)}, Saltati: {len(skipped)}\")\n",
    "    \n",
    "\n",
    "    return new_state_dict\n"
   ]
  },
  {
   "cell_type": "code",
   "execution_count": 20,
   "id": "26716ea3",
   "metadata": {},
   "outputs": [
    {
     "name": "stdout",
     "output_type": "stream",
     "text": [
      "[DenseDeCUR Mod 1] Matchati: 318, Saltati: 0\n",
      "[DenseDeCUR Mod 2] Matchati: 318, Saltati: 0\n"
     ]
    }
   ],
   "source": [
    "# Chiamiamo la funzione per mappare i pesi della backbone 1 (visible/rgb) di DenseDeCUR in ICAFusion\n",
    "icafusion_from_denseDecur = map_dense_decur_to_ica(icafusion_model_state_dict, denseDecur_model_state_dict, mod=1)\n",
    "\n",
    "# Richiamiamo la funzione per mappare i pesi della backbone 2 (infrared/thermal) di DenseDeCUR in ICAFusion\n",
    "icafusion_from_denseDecur = map_dense_decur_to_ica(icafusion_from_denseDecur, denseDecur_model_state_dict, mod=2)"
   ]
  },
  {
   "cell_type": "markdown",
   "id": "d36f9bb0",
   "metadata": {},
   "source": [
    "```\n",
    "Ricapitolando"
   ]
  },
  {
   "cell_type": "markdown",
   "id": "1f1ff030",
   "metadata": {},
   "source": [
    "From:  \n",
    "\n",
    "* DeCUR  --- icafusion_from_decur\n",
    "\n",
    "* DenseCL --- icafusion_from_denseCL\n",
    "\n",
    "* DenseDeCUR --- icafusion_from_denseDecur"
   ]
  },
  {
   "cell_type": "markdown",
   "id": "5f884f9e",
   "metadata": {},
   "source": [
    "### Salvataggi"
   ]
  },
  {
   "cell_type": "markdown",
   "id": "1377494b",
   "metadata": {},
   "source": [
    "Per prima cosa incapsuleremo i model_state_dict ottenuti, sotto la chiave ['Model'], in una struttura dict piu generale.  \n",
    "Seconda cosa procederemo al salvataggio. \n",
    "\n",
    "Ho creato una cartella bersaglio apposta per i checkpoint finali di ICAFusion pronti per l'obj det.   \n",
    "--> ADL-Project/ICAFusion/final_checkpoints/.."
   ]
  },
  {
   "cell_type": "code",
   "execution_count": 21,
   "id": "5833eb4e",
   "metadata": {},
   "outputs": [],
   "source": [
    "# Funzione di salvataggio del checkpoint ICAFusion\n",
    "\n",
    "def save_icafusion_state_dict_wrapped(icafusion_state_dict, save_path=\"ICAFusion/final_checkpoints/icafusion_from_denseDecur.pth\"):\n",
    "   \n",
    "    to_save = {'model': icafusion_state_dict}\n",
    "    torch.save(to_save, save_path)\n",
    "    print(f\"Checkpoint ICAfusion salvato come: {save_path}\")"
   ]
  },
  {
   "cell_type": "code",
   "execution_count": 22,
   "id": "3c9d117b",
   "metadata": {},
   "outputs": [
    {
     "name": "stdout",
     "output_type": "stream",
     "text": [
      "Checkpoint ICAfusion salvato come: ICAFusion/final_checkpoints/icafusion_from_decur_original.pth\n",
      "Checkpoint ICAfusion salvato come: ICAFusion/final_checkpoints/icafusion_from_decur.pth\n",
      "Checkpoint ICAfusion salvato come: ICAFusion/final_checkpoints/icafusion_from_denseCL.pth\n",
      "Checkpoint ICAfusion salvato come: ICAFusion/final_checkpoints/icafusion_from_denseDecur.pth\n"
     ]
    }
   ],
   "source": [
    "save_icafusion_state_dict_wrapped(icafusion_from_decur_original, save_path=\"ICAFusion/final_checkpoints/icafusion_from_decur_original.pth\")\n",
    "\n",
    "# Salvataggio checkpoint ICAFusion da DeCUR\n",
    "save_icafusion_state_dict_wrapped(icafusion_from_decur, save_path=\"ICAFusion/final_checkpoints/icafusion_from_decur.pth\")\n",
    "\n",
    "# Salvataggio checkpoint ICAFusion da DenseCL\n",
    "save_icafusion_state_dict_wrapped(icafusion_from_denseCL, save_path=\"ICAFusion/final_checkpoints/icafusion_from_denseCL.pth\")\n",
    "\n",
    "# Salvataggio checkpoint ICAFusion da DenseDeCUR\n",
    "save_icafusion_state_dict_wrapped(icafusion_from_denseDecur, save_path=\"ICAFusion/final_checkpoints/icafusion_from_denseDecur.pth\")\n"
   ]
  }
 ],
 "metadata": {
  "kernelspec": {
   "display_name": "base",
   "language": "python",
   "name": "python3"
  },
  "language_info": {
   "codemirror_mode": {
    "name": "ipython",
    "version": 3
   },
   "file_extension": ".py",
   "mimetype": "text/x-python",
   "name": "python",
   "nbconvert_exporter": "python",
   "pygments_lexer": "ipython3",
   "version": "3.12.9"
  }
 },
 "nbformat": 4,
 "nbformat_minor": 5
}
